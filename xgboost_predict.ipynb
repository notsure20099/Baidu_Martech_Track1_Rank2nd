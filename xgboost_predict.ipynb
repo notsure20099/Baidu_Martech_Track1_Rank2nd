{
 "cells": [
  {
   "cell_type": "code",
   "execution_count": null,
   "metadata": {},
   "outputs": [],
   "source": [
    "import pandas as pd\n",
    "import numpy as np\n",
    "import datetime\n",
    "import os\n",
    "\n",
    "train = pd.read_csv('train_features.csv')\n",
    "test = pd.read_csv('test_features.csv')"
   ]
  },
  {
   "cell_type": "code",
   "execution_count": null,
   "metadata": {},
   "outputs": [],
   "source": [
    "def formatTrans(df):\n",
    "    col = list(df.columns)\n",
    "    for i in col:\n",
    "        if df[i].dtypes == 'float64':\n",
    "            df[i] = df[i].astype(np.float32)\n",
    "        if df[i].dtypes == 'int64':\n",
    "            df[i] = df[i].astype(np.int32)\n",
    "formatTrans(train)\n",
    "formatTrans(test)"
   ]
  },
  {
   "cell_type": "code",
   "execution_count": null,
   "metadata": {},
   "outputs": [],
   "source": [
    "from sklearn.model_selection import train_test_split\n",
    "from sklearn.preprocessing import LabelEncoder\n",
    "\n",
    "# train.drop(['recency_z-score', 'frequency_z-score', 'monetary_z-score', 'rfm_z-score'],axis=1,inplace=True)\n",
    "# test.drop(['recency_z-score', 'frequency_z-score', 'monetary_z-score', 'rfm_z-score'],axis=1,inplace=True)\n",
    "\n",
    "labels = [ 'gender', 'province', 'city', 'city_grade', 'is_rated']\n",
    "rfm_labels = ['rs', 'fs', 'ms', 'rfms', 'customer_id_cut']\n",
    "\n",
    "labels = labels + rfm_labels\n",
    "\n",
    "print('Encoding labels: ', labels)\n",
    "\n",
    "# 训练集 lbe\n",
    "label_list = []\n",
    "\n",
    "for label in labels:\n",
    "    lbe = LabelEncoder()\n",
    "    print(label)\n",
    "    train[label] = lbe.fit_transform(train[label])\n",
    "    test[label] = lbe.transform(test[label])\n",
    "    label_list.append(lbe)"
   ]
  },
  {
   "cell_type": "code",
   "execution_count": null,
   "metadata": {},
   "outputs": [],
   "source": [
    "train.drop(['avg_discount','goods_price_std','goods_price_cv','payment_std','payment_cv'],axis=1,inplace=True)\n",
    "test.drop(['avg_discount','goods_price_std','goods_price_cv','payment_std','payment_cv'],axis=1,inplace=True)"
   ]
  },
  {
   "cell_type": "code",
   "execution_count": null,
   "metadata": {},
   "outputs": [],
   "source": [
    "import xgboost as xgb\n",
    "from sklearn.model_selection import train_test_split\n",
    "\n",
    "X_train, X_valid, y_train, y_valid = train_test_split(train.drop(['labels', 'customer_id'], axis=1), train['labels'],test_size=0.05, random_state=42)"
   ]
  },
  {
   "cell_type": "code",
   "execution_count": null,
   "metadata": {},
   "outputs": [],
   "source": [
    "# 自定义损失函数\n",
    "penalty = 40\n",
    "def WeightedLL(preds, xgbtrain):\n",
    "    labels = xgbtrain.get_label()\n",
    "    sig_preds = 1/(1+np.exp(-preds))\n",
    "    sig_clip_preds = np.clip(preds,0.05,0.95)\n",
    "    score = -np.mean(labels*np.log(sig_clip_preds)*penalty+(1-labels)*np.log(1.-sig_clip_preds))\n",
    "    return 'WLL', score"
   ]
  },
  {
   "cell_type": "code",
   "execution_count": null,
   "metadata": {},
   "outputs": [],
   "source": [
    "param = {'boosting_type':'gbdt',\n",
    "                          #'objective' : 'binary:logistic',\n",
    "                         # 'eval_metric' : 'auc',\n",
    "                         'eta' : 0.015,\n",
    "                         'max_depth' : 7,\n",
    "                         'colsample_bytree':0.8,\n",
    "                         'subsample': 0.9,\n",
    "                         'subsample_freq': 8,\n",
    "                         'alpha': 0.5,\n",
    "                         'lambda': 1,\n",
    "        }\n",
    "\n",
    "train_data = xgb.DMatrix(X_train, label=y_train)\n",
    "valid_data = xgb.DMatrix(X_valid, label=y_valid)\n",
    "test_data = xgb.DMatrix(test.drop('customer_id',axis=1))"
   ]
  },
  {
   "cell_type": "code",
   "execution_count": null,
   "metadata": {},
   "outputs": [],
   "source": [
    "# 模型训练与预测\n",
    "model = xgb.train(param, train_data, evals=[(train_data, 'train'), (valid_data, 'valid')], num_boost_round = 300, early_stopping_rounds=30, verbose_eval=10,obj=custo,feval=WeightedLL,maximize=False)\n",
    "\n",
    "predict=model.predict(test_data)"
   ]
  },
  {
   "cell_type": "code",
   "execution_count": null,
   "metadata": {},
   "outputs": [],
   "source": [
    "test['result']=predict.round(decimals=6)\n",
    "# 输出csv\n",
    "test.reset_index(drop=True).sort_values('customer_id', ascending=True, inplace=True,)\n",
    "test[['customer_id','result']].to_csv('submission_xgboost.csv', float_format='%.5f',index=False)"
   ]
  }
 ],
 "metadata": {
  "kernelspec": {
   "display_name": "Python 3",
   "language": "python",
   "name": "python3"
  },
  "language_info": {
   "codemirror_mode": {
    "name": "ipython",
    "version": 3
   },
   "file_extension": ".py",
   "mimetype": "text/x-python",
   "name": "python",
   "nbconvert_exporter": "python",
   "pygments_lexer": "ipython3",
   "version": "3.7.6"
  }
 },
 "nbformat": 4,
 "nbformat_minor": 4
}

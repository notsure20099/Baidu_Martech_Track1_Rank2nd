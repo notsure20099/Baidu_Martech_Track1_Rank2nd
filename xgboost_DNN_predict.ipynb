{
 "cells": [
  {
   "cell_type": "code",
   "execution_count": null,
   "metadata": {},
   "outputs": [],
   "source": [
    "import pandas as pd"
   ]
  },
  {
   "cell_type": "code",
   "execution_count": null,
   "metadata": {},
   "outputs": [],
   "source": [
    "xgb_predict = pd.read_csv('submission_xgboost.csv')\n",
    "DNN_predict = pd.read_csv('submission_xgboost.csv')"
   ]
  },
  {
   "cell_type": "code",
   "execution_count": null,
   "metadata": {},
   "outputs": [],
   "source": [
    "# 定义权重系数0-1\n",
    "weight = 0.6\n",
    "submission = pd.Dataframe(columns = ['customer_id','result'])\n",
    "submission['customer_id'] = xgb_predict['customer_id']\n",
    "submission['result'] = xgb_predict['result'] * weight + DNN_predict['result'] * (1-weight)\n",
    "submission.to_csv('submission.csv'', float_format='%.5f',index=False)"
   ]
  }
 ],
 "metadata": {
  "kernelspec": {
   "display_name": "Python 3",
   "language": "python",
   "name": "python3"
  },
  "language_info": {
   "codemirror_mode": {
    "name": "ipython",
    "version": 3
   },
   "file_extension": ".py",
   "mimetype": "text/x-python",
   "name": "python",
   "nbconvert_exporter": "python",
   "pygments_lexer": "ipython3",
   "version": "3.7.6"
  }
 },
 "nbformat": 4,
 "nbformat_minor": 4
}
